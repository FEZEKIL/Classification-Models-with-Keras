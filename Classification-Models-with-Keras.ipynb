{
  "nbformat": 4,
  "nbformat_minor": 0,
  "metadata": {
    "colab": {
      "provenance": [],
      "authorship_tag": "ABX9TyOAe3pNMp+dUYoLX4Zy95nv",
      "include_colab_link": true
    },
    "kernelspec": {
      "name": "python3",
      "display_name": "Python 3"
    },
    "language_info": {
      "name": "python"
    }
  },
  "cells": [
    {
      "cell_type": "markdown",
      "metadata": {
        "id": "view-in-github",
        "colab_type": "text"
      },
      "source": [
        "<a href=\"https://colab.research.google.com/github/FEZEKIL/Classification-Models-with-Keras/blob/main/Classification-Models-with-Keras.ipynb\" target=\"_parent\"><img src=\"https://colab.research.google.com/assets/colab-badge.svg\" alt=\"Open In Colab\"/></a>"
      ]
    },
    {
      "cell_type": "markdown",
      "source": [
        "Classification Models with Keras"
      ],
      "metadata": {
        "id": "J-uDnkWstuIi"
      }
    },
    {
      "cell_type": "markdown",
      "source": [],
      "metadata": {
        "id": "hQ6BEiLrtr3u"
      }
    },
    {
      "cell_type": "code",
      "execution_count": 1,
      "metadata": {
        "colab": {
          "base_uri": "https://localhost:8080/"
        },
        "id": "_hk0Br_Vta2W",
        "outputId": "459d1234-9e34-48d2-8725-fdd92bc9fb05"
      },
      "outputs": [
        {
          "output_type": "stream",
          "name": "stdout",
          "text": [
            "Collecting tensorflow_cpu==2.18.0\n",
            "  Downloading tensorflow_cpu-2.18.0-cp311-cp311-manylinux_2_17_x86_64.manylinux2014_x86_64.whl.metadata (4.1 kB)\n",
            "Requirement already satisfied: absl-py>=1.0.0 in /usr/local/lib/python3.11/dist-packages (from tensorflow_cpu==2.18.0) (1.4.0)\n",
            "Requirement already satisfied: astunparse>=1.6.0 in /usr/local/lib/python3.11/dist-packages (from tensorflow_cpu==2.18.0) (1.6.3)\n",
            "Requirement already satisfied: flatbuffers>=24.3.25 in /usr/local/lib/python3.11/dist-packages (from tensorflow_cpu==2.18.0) (25.2.10)\n",
            "Requirement already satisfied: gast!=0.5.0,!=0.5.1,!=0.5.2,>=0.2.1 in /usr/local/lib/python3.11/dist-packages (from tensorflow_cpu==2.18.0) (0.6.0)\n",
            "Requirement already satisfied: google-pasta>=0.1.1 in /usr/local/lib/python3.11/dist-packages (from tensorflow_cpu==2.18.0) (0.2.0)\n",
            "Requirement already satisfied: libclang>=13.0.0 in /usr/local/lib/python3.11/dist-packages (from tensorflow_cpu==2.18.0) (18.1.1)\n",
            "Requirement already satisfied: opt-einsum>=2.3.2 in /usr/local/lib/python3.11/dist-packages (from tensorflow_cpu==2.18.0) (3.4.0)\n",
            "Requirement already satisfied: packaging in /usr/local/lib/python3.11/dist-packages (from tensorflow_cpu==2.18.0) (24.2)\n",
            "Requirement already satisfied: protobuf!=4.21.0,!=4.21.1,!=4.21.2,!=4.21.3,!=4.21.4,!=4.21.5,<6.0.0dev,>=3.20.3 in /usr/local/lib/python3.11/dist-packages (from tensorflow_cpu==2.18.0) (5.29.4)\n",
            "Requirement already satisfied: requests<3,>=2.21.0 in /usr/local/lib/python3.11/dist-packages (from tensorflow_cpu==2.18.0) (2.32.3)\n",
            "Requirement already satisfied: setuptools in /usr/local/lib/python3.11/dist-packages (from tensorflow_cpu==2.18.0) (75.2.0)\n",
            "Requirement already satisfied: six>=1.12.0 in /usr/local/lib/python3.11/dist-packages (from tensorflow_cpu==2.18.0) (1.17.0)\n",
            "Requirement already satisfied: termcolor>=1.1.0 in /usr/local/lib/python3.11/dist-packages (from tensorflow_cpu==2.18.0) (3.1.0)\n",
            "Requirement already satisfied: typing-extensions>=3.6.6 in /usr/local/lib/python3.11/dist-packages (from tensorflow_cpu==2.18.0) (4.13.2)\n",
            "Requirement already satisfied: wrapt>=1.11.0 in /usr/local/lib/python3.11/dist-packages (from tensorflow_cpu==2.18.0) (1.17.2)\n",
            "Requirement already satisfied: grpcio<2.0,>=1.24.3 in /usr/local/lib/python3.11/dist-packages (from tensorflow_cpu==2.18.0) (1.71.0)\n",
            "Requirement already satisfied: tensorboard<2.19,>=2.18 in /usr/local/lib/python3.11/dist-packages (from tensorflow_cpu==2.18.0) (2.18.0)\n",
            "Requirement already satisfied: keras>=3.5.0 in /usr/local/lib/python3.11/dist-packages (from tensorflow_cpu==2.18.0) (3.8.0)\n",
            "Requirement already satisfied: numpy<2.1.0,>=1.26.0 in /usr/local/lib/python3.11/dist-packages (from tensorflow_cpu==2.18.0) (2.0.2)\n",
            "Requirement already satisfied: h5py>=3.11.0 in /usr/local/lib/python3.11/dist-packages (from tensorflow_cpu==2.18.0) (3.13.0)\n",
            "Requirement already satisfied: ml-dtypes<0.5.0,>=0.4.0 in /usr/local/lib/python3.11/dist-packages (from tensorflow_cpu==2.18.0) (0.4.1)\n",
            "Requirement already satisfied: tensorflow-io-gcs-filesystem>=0.23.1 in /usr/local/lib/python3.11/dist-packages (from tensorflow_cpu==2.18.0) (0.37.1)\n",
            "Requirement already satisfied: wheel<1.0,>=0.23.0 in /usr/local/lib/python3.11/dist-packages (from astunparse>=1.6.0->tensorflow_cpu==2.18.0) (0.45.1)\n",
            "Requirement already satisfied: rich in /usr/local/lib/python3.11/dist-packages (from keras>=3.5.0->tensorflow_cpu==2.18.0) (13.9.4)\n",
            "Requirement already satisfied: namex in /usr/local/lib/python3.11/dist-packages (from keras>=3.5.0->tensorflow_cpu==2.18.0) (0.0.9)\n",
            "Requirement already satisfied: optree in /usr/local/lib/python3.11/dist-packages (from keras>=3.5.0->tensorflow_cpu==2.18.0) (0.15.0)\n",
            "Requirement already satisfied: charset-normalizer<4,>=2 in /usr/local/lib/python3.11/dist-packages (from requests<3,>=2.21.0->tensorflow_cpu==2.18.0) (3.4.2)\n",
            "Requirement already satisfied: idna<4,>=2.5 in /usr/local/lib/python3.11/dist-packages (from requests<3,>=2.21.0->tensorflow_cpu==2.18.0) (3.10)\n",
            "Requirement already satisfied: urllib3<3,>=1.21.1 in /usr/local/lib/python3.11/dist-packages (from requests<3,>=2.21.0->tensorflow_cpu==2.18.0) (2.4.0)\n",
            "Requirement already satisfied: certifi>=2017.4.17 in /usr/local/lib/python3.11/dist-packages (from requests<3,>=2.21.0->tensorflow_cpu==2.18.0) (2025.4.26)\n",
            "Requirement already satisfied: markdown>=2.6.8 in /usr/local/lib/python3.11/dist-packages (from tensorboard<2.19,>=2.18->tensorflow_cpu==2.18.0) (3.8)\n",
            "Requirement already satisfied: tensorboard-data-server<0.8.0,>=0.7.0 in /usr/local/lib/python3.11/dist-packages (from tensorboard<2.19,>=2.18->tensorflow_cpu==2.18.0) (0.7.2)\n",
            "Requirement already satisfied: werkzeug>=1.0.1 in /usr/local/lib/python3.11/dist-packages (from tensorboard<2.19,>=2.18->tensorflow_cpu==2.18.0) (3.1.3)\n",
            "Requirement already satisfied: MarkupSafe>=2.1.1 in /usr/local/lib/python3.11/dist-packages (from werkzeug>=1.0.1->tensorboard<2.19,>=2.18->tensorflow_cpu==2.18.0) (3.0.2)\n",
            "Requirement already satisfied: markdown-it-py>=2.2.0 in /usr/local/lib/python3.11/dist-packages (from rich->keras>=3.5.0->tensorflow_cpu==2.18.0) (3.0.0)\n",
            "Requirement already satisfied: pygments<3.0.0,>=2.13.0 in /usr/local/lib/python3.11/dist-packages (from rich->keras>=3.5.0->tensorflow_cpu==2.18.0) (2.19.1)\n",
            "Requirement already satisfied: mdurl~=0.1 in /usr/local/lib/python3.11/dist-packages (from markdown-it-py>=2.2.0->rich->keras>=3.5.0->tensorflow_cpu==2.18.0) (0.1.2)\n",
            "Downloading tensorflow_cpu-2.18.0-cp311-cp311-manylinux_2_17_x86_64.manylinux2014_x86_64.whl (230.2 MB)\n",
            "\u001b[2K   \u001b[90m━━━━━━━━━━━━━━━━━━━━━━━━━━━━━━━━━━━━━━━━\u001b[0m \u001b[32m230.2/230.2 MB\u001b[0m \u001b[31m4.1 MB/s\u001b[0m eta \u001b[36m0:00:00\u001b[0m\n",
            "\u001b[?25hInstalling collected packages: tensorflow_cpu\n",
            "Successfully installed tensorflow_cpu-2.18.0\n",
            "Collecting matplotlib==3.9.2\n",
            "  Downloading matplotlib-3.9.2-cp311-cp311-manylinux_2_17_x86_64.manylinux2014_x86_64.whl.metadata (11 kB)\n",
            "Requirement already satisfied: contourpy>=1.0.1 in /usr/local/lib/python3.11/dist-packages (from matplotlib==3.9.2) (1.3.2)\n",
            "Requirement already satisfied: cycler>=0.10 in /usr/local/lib/python3.11/dist-packages (from matplotlib==3.9.2) (0.12.1)\n",
            "Requirement already satisfied: fonttools>=4.22.0 in /usr/local/lib/python3.11/dist-packages (from matplotlib==3.9.2) (4.58.0)\n",
            "Requirement already satisfied: kiwisolver>=1.3.1 in /usr/local/lib/python3.11/dist-packages (from matplotlib==3.9.2) (1.4.8)\n",
            "Requirement already satisfied: numpy>=1.23 in /usr/local/lib/python3.11/dist-packages (from matplotlib==3.9.2) (2.0.2)\n",
            "Requirement already satisfied: packaging>=20.0 in /usr/local/lib/python3.11/dist-packages (from matplotlib==3.9.2) (24.2)\n",
            "Requirement already satisfied: pillow>=8 in /usr/local/lib/python3.11/dist-packages (from matplotlib==3.9.2) (11.2.1)\n",
            "Requirement already satisfied: pyparsing>=2.3.1 in /usr/local/lib/python3.11/dist-packages (from matplotlib==3.9.2) (3.2.3)\n",
            "Requirement already satisfied: python-dateutil>=2.7 in /usr/local/lib/python3.11/dist-packages (from matplotlib==3.9.2) (2.9.0.post0)\n",
            "Requirement already satisfied: six>=1.5 in /usr/local/lib/python3.11/dist-packages (from python-dateutil>=2.7->matplotlib==3.9.2) (1.17.0)\n",
            "Downloading matplotlib-3.9.2-cp311-cp311-manylinux_2_17_x86_64.manylinux2014_x86_64.whl (8.3 MB)\n",
            "\u001b[2K   \u001b[90m━━━━━━━━━━━━━━━━━━━━━━━━━━━━━━━━━━━━━━━━\u001b[0m \u001b[32m8.3/8.3 MB\u001b[0m \u001b[31m53.3 MB/s\u001b[0m eta \u001b[36m0:00:00\u001b[0m\n",
            "\u001b[?25hInstalling collected packages: matplotlib\n",
            "  Attempting uninstall: matplotlib\n",
            "    Found existing installation: matplotlib 3.10.0\n",
            "    Uninstalling matplotlib-3.10.0:\n",
            "      Successfully uninstalled matplotlib-3.10.0\n",
            "Successfully installed matplotlib-3.9.2\n",
            "==== All required libraries are installed =====\n"
          ]
        }
      ],
      "source": [
        "!pip install tensorflow_cpu==2.18.0\n",
        "!pip install matplotlib==3.9.2\n",
        "\n",
        "print(\"==== All required libraries are installed =====\")"
      ]
    },
    {
      "cell_type": "markdown",
      "source": [
        "Suppress the tensorflow warning messages\n",
        "We use the following code to suppress the warning messages due to use of CPU architechture for tensoflow.\n",
        "\n",
        "You may want to comment out these lines if you are using the GPU architechture"
      ],
      "metadata": {
        "id": "PWALZjcPuTX_"
      }
    },
    {
      "cell_type": "code",
      "source": [
        "import os\n",
        "os.environ['TF_ENABLE_ONEDNN_OPTS'] = '0'\n",
        "os.environ['TF_CPP_MIN_LOG_LEVEL'] = '2'"
      ],
      "metadata": {
        "id": "iODEI-xKuVan"
      },
      "execution_count": 2,
      "outputs": []
    },
    {
      "cell_type": "code",
      "source": [
        "import keras\n",
        "\n",
        "from keras.models import Sequential\n",
        "from keras.layers import Dense\n",
        "from keras.layers import Input\n",
        "from keras.utils import to_categorical"
      ],
      "metadata": {
        "id": "iZcD1yPtuju2"
      },
      "execution_count": 3,
      "outputs": []
    },
    {
      "cell_type": "markdown",
      "source": [
        "Since we are dealing we images, let's also import the Matplotlib scripting layer in order to view the images."
      ],
      "metadata": {
        "id": "_YH5OB5Auwgr"
      }
    },
    {
      "cell_type": "code",
      "source": [
        "import matplotlib.pyplot as plt"
      ],
      "metadata": {
        "id": "hFOv4vIDuynH"
      },
      "execution_count": 4,
      "outputs": []
    },
    {
      "cell_type": "code",
      "source": [
        "# import the data\n",
        "from keras.datasets import mnist\n",
        "\n",
        "# read the data\n",
        "(X_train, y_train), (X_test, y_test) = mnist.load_data()"
      ],
      "metadata": {
        "colab": {
          "base_uri": "https://localhost:8080/"
        },
        "id": "-KC2b1FPvAZa",
        "outputId": "59e6b10e-f8de-433e-e637-3c43677e6fa0"
      },
      "execution_count": 5,
      "outputs": [
        {
          "output_type": "stream",
          "name": "stdout",
          "text": [
            "Downloading data from https://storage.googleapis.com/tensorflow/tf-keras-datasets/mnist.npz\n",
            "\u001b[1m11490434/11490434\u001b[0m \u001b[32m━━━━━━━━━━━━━━━━━━━━\u001b[0m\u001b[37m\u001b[0m \u001b[1m0s\u001b[0m 0us/step\n"
          ]
        }
      ]
    },
    {
      "cell_type": "code",
      "source": [
        "X_train.shape"
      ],
      "metadata": {
        "colab": {
          "base_uri": "https://localhost:8080/"
        },
        "id": "zq_8V8hSvPI5",
        "outputId": "062d010f-624f-421d-fa85-f94d7e49d2f5"
      },
      "execution_count": 6,
      "outputs": [
        {
          "output_type": "execute_result",
          "data": {
            "text/plain": [
              "(60000, 28, 28)"
            ]
          },
          "metadata": {},
          "execution_count": 6
        }
      ]
    },
    {
      "cell_type": "markdown",
      "source": [
        "The first number in the output tuple is the number of images, and the other two numbers are the size of the images in datset. So, each image is 28 pixels by 28 pixels.\n",
        "\n",
        "Let's visualize the first image in the training set using Matplotlib's scripting layer."
      ],
      "metadata": {
        "id": "ZaDf99kXvk_m"
      }
    },
    {
      "cell_type": "code",
      "source": [
        "plt.imshow(X_train[0])"
      ],
      "metadata": {
        "colab": {
          "base_uri": "https://localhost:8080/",
          "height": 448
        },
        "id": "TQ8q8SJ7vbud",
        "outputId": "f739b9b5-4cf2-42cc-a059-271219b8b3f1"
      },
      "execution_count": 7,
      "outputs": [
        {
          "output_type": "execute_result",
          "data": {
            "text/plain": [
              "<matplotlib.image.AxesImage at 0x7a64982e7150>"
            ]
          },
          "metadata": {},
          "execution_count": 7
        },
        {
          "output_type": "display_data",
          "data": {
            "text/plain": [
              "<Figure size 640x480 with 1 Axes>"
            ],
            "image/png": "[encoded data removed]"
          },
          "metadata": {}
        }
      ]
    },
    {
      "cell_type": "markdown",
      "source": [
        "With conventional neural networks, we cannot feed in the image as input as is. So we need to flatten the images into one-dimensional vectors, each of size 1 x (28 x 28) = 1 x 784."
      ],
      "metadata": {
        "id": "EmH1liQXv1G1"
      }
    },
    {
      "cell_type": "code",
      "source": [
        "# flatten images into one-dimensional vector\n",
        "\n",
        "num_pixels = X_train.shape[1] * X_train.shape[2] # find size of one-dimensional vector\n",
        "\n",
        "X_train = X_train.reshape(X_train.shape[0], num_pixels).astype('float32') # flatten training images\n",
        "X_test = X_test.reshape(X_test.shape[0], num_pixels).astype('float32') # flatten test images"
      ],
      "metadata": {
        "id": "nOUiKgzev2mJ"
      },
      "execution_count": 8,
      "outputs": []
    },
    {
      "cell_type": "markdown",
      "source": [
        "Since pixel values can range from 0 to 255, let's normalize the vectors to be between 0 and 1."
      ],
      "metadata": {
        "id": "LCbtBPG2wI04"
      }
    },
    {
      "cell_type": "code",
      "source": [
        "# normalize inputs from 0-255 to 0-1\n",
        "X_train = X_train / 255\n",
        "X_test = X_test / 255"
      ],
      "metadata": {
        "id": "LrgwwNiVwKoq"
      },
      "execution_count": 9,
      "outputs": []
    },
    {
      "cell_type": "markdown",
      "source": [
        "Finally, before we start building our model, remember that for classification we need to divide our target variable into categories. We use the to_categorical function from the Keras Utilities package."
      ],
      "metadata": {
        "id": "UU447vaswYd0"
      }
    },
    {
      "cell_type": "code",
      "source": [
        "# one hot encode outputs\n",
        "y_train = to_categorical(y_train)\n",
        "y_test = to_categorical(y_test)\n",
        "\n",
        "num_classes = y_test.shape[1]\n",
        "print(num_classes)"
      ],
      "metadata": {
        "colab": {
          "base_uri": "https://localhost:8080/"
        },
        "id": "1amX4xjgwaFj",
        "outputId": "e43912dd-335f-4a19-9eef-3ac966450233"
      },
      "execution_count": 10,
      "outputs": [
        {
          "output_type": "stream",
          "name": "stdout",
          "text": [
            "10\n"
          ]
        }
      ]
    },
    {
      "cell_type": "markdown",
      "source": [
        "Build a Neural Network"
      ],
      "metadata": {
        "id": "3N4BTOrbwph1"
      }
    },
    {
      "cell_type": "code",
      "source": [
        "# define classification model\n",
        "def classification_model():\n",
        "    # create model\n",
        "\n",
        "    model = Sequential()\n",
        "    model.add(Input(shape=(num_pixels,)))\n",
        "    model.add(Dense(num_pixels, activation='relu'))\n",
        "    model.add(Dense(100, activation='relu'))\n",
        "    model.add(Dense(num_classes, activation='softmax'))\n",
        "\n",
        "\n",
        "    # compile model\n",
        "    model.compile(optimizer='adam', loss='categorical_crossentropy', metrics=['accuracy'])\n",
        "    return model"
      ],
      "metadata": {
        "id": "MIpAhxU0wrlu"
      },
      "execution_count": 11,
      "outputs": []
    },
    {
      "cell_type": "markdown",
      "source": [
        "Train and Test the Network"
      ],
      "metadata": {
        "id": "IG7_NQPQw0nr"
      }
    },
    {
      "cell_type": "code",
      "source": [
        "# build the model\n",
        "model = classification_model()\n",
        "\n",
        "# fit the model\n",
        "model.fit(X_train, y_train, validation_data=(X_test, y_test), epochs=10, verbose=2)\n",
        "\n",
        "# evaluate the model\n",
        "scores = model.evaluate(X_test, y_test, verbose=0)"
      ],
      "metadata": {
        "colab": {
          "base_uri": "https://localhost:8080/"
        },
        "id": "KmRQv8Wtw6lP",
        "outputId": "f482e296-ab84-4991-91a1-b123ef1bbcda"
      },
      "execution_count": 12,
      "outputs": [
        {
          "output_type": "stream",
          "name": "stdout",
          "text": [
            "Epoch 1/10\n",
            "1875/1875 - 22s - 12ms/step - accuracy: 0.9438 - loss: 0.1838 - val_accuracy: 0.9703 - val_loss: 0.0943\n",
            "Epoch 2/10\n",
            "1875/1875 - 41s - 22ms/step - accuracy: 0.9758 - loss: 0.0772 - val_accuracy: 0.9708 - val_loss: 0.1009\n",
            "Epoch 3/10\n",
            "1875/1875 - 22s - 12ms/step - accuracy: 0.9830 - loss: 0.0543 - val_accuracy: 0.9714 - val_loss: 0.0923\n",
            "Epoch 4/10\n",
            "1875/1875 - 19s - 10ms/step - accuracy: 0.9872 - loss: 0.0401 - val_accuracy: 0.9719 - val_loss: 0.1045\n",
            "Epoch 5/10\n",
            "1875/1875 - 22s - 12ms/step - accuracy: 0.9894 - loss: 0.0320 - val_accuracy: 0.9786 - val_loss: 0.0772\n",
            "Epoch 6/10\n",
            "1875/1875 - 40s - 21ms/step - accuracy: 0.9917 - loss: 0.0252 - val_accuracy: 0.9784 - val_loss: 0.0751\n",
            "Epoch 7/10\n",
            "1875/1875 - 20s - 11ms/step - accuracy: 0.9930 - loss: 0.0210 - val_accuracy: 0.9794 - val_loss: 0.0834\n",
            "Epoch 8/10\n",
            "1875/1875 - 19s - 10ms/step - accuracy: 0.9939 - loss: 0.0195 - val_accuracy: 0.9794 - val_loss: 0.0908\n",
            "Epoch 9/10\n",
            "1875/1875 - 20s - 11ms/step - accuracy: 0.9946 - loss: 0.0170 - val_accuracy: 0.9799 - val_loss: 0.0931\n",
            "Epoch 10/10\n",
            "1875/1875 - 20s - 11ms/step - accuracy: 0.9953 - loss: 0.0138 - val_accuracy: 0.9773 - val_loss: 0.1196\n"
          ]
        }
      ]
    },
    {
      "cell_type": "code",
      "source": [
        "print('Accuracy: {}% \\n Error: {}'.format(scores[1], 1 - scores[1]))"
      ],
      "metadata": {
        "colab": {
          "base_uri": "https://localhost:8080/"
        },
        "id": "g7_7InFbyftv",
        "outputId": "b2827262-36e8-44be-a854-e4deab0bce96"
      },
      "execution_count": 13,
      "outputs": [
        {
          "output_type": "stream",
          "name": "stdout",
          "text": [
            "Accuracy: 0.9772999882698059% \n",
            " Error: 0.022700011730194092\n"
          ]
        }
      ]
    },
    {
      "cell_type": "code",
      "source": [
        "model.save('classification_model.keras')"
      ],
      "metadata": {
        "id": "kajEjQityyrM"
      },
      "execution_count": 14,
      "outputs": []
    },
    {
      "cell_type": "code",
      "source": [
        "pretrained_model = keras.saving.load_model('classification_model.keras')"
      ],
      "metadata": {
        "id": "GX-PNeCjy7is"
      },
      "execution_count": 15,
      "outputs": []
    },
    {
      "cell_type": "code",
      "source": [
        "def classification_model_6layers():\n",
        "    # create model\n",
        "\n",
        "    model = Sequential()\n",
        "    model.add(Input(shape=(num_pixels,)))\n",
        "    model.add(Dense(num_pixels, activation='relu'))\n",
        "    model.add(Dense(100, activation='relu'))\n",
        "    model.add(Dense(100, activation='relu'))\n",
        "    model.add(Dense(100, activation='relu'))\n",
        "    model.add(Dense(100, activation='relu'))\n",
        "    model.add(Dense(num_classes, activation='softmax'))\n",
        "\n",
        "\n",
        "    # compile model\n",
        "    model.compile(optimizer='adam', loss='categorical_crossentropy', metrics=['accuracy'])\n",
        "    return model\n",
        "\n",
        "# build the model\n",
        "model_6layers = classification_model_6layers()\n",
        "\n",
        "# fit the model\n",
        "model_6layers.fit(X_train, y_train, validation_data=(X_test, y_test), epochs=10, verbose=2)\n",
        "\n",
        "# evaluate the model\n",
        "scores_6layers = model_6layers.evaluate(X_test, y_test, verbose=0)\n",
        "\n",
        "print('Accuracy_3_layers: {}% \\n Accuracy_6_layers: {}'.format(scores[1], scores_6layers[1]))\n"
      ],
      "metadata": {
        "colab": {
          "base_uri": "https://localhost:8080/"
        },
        "id": "3RtiqWzkzOjx",
        "outputId": "bafe3882-6ba4-4124-bdd0-47146d9b8d94"
      },
      "execution_count": 16,
      "outputs": [
        {
          "output_type": "stream",
          "name": "stdout",
          "text": [
            "Epoch 1/10\n",
            "1875/1875 - 24s - 13ms/step - accuracy: 0.9334 - loss: 0.2230 - val_accuracy: 0.9650 - val_loss: 0.1067\n",
            "Epoch 2/10\n",
            "1875/1875 - 21s - 11ms/step - accuracy: 0.9711 - loss: 0.0994 - val_accuracy: 0.9678 - val_loss: 0.1059\n",
            "Epoch 3/10\n",
            "1875/1875 - 43s - 23ms/step - accuracy: 0.9772 - loss: 0.0760 - val_accuracy: 0.9767 - val_loss: 0.0859\n",
            "Epoch 4/10\n",
            "1875/1875 - 40s - 22ms/step - accuracy: 0.9834 - loss: 0.0559 - val_accuracy: 0.9787 - val_loss: 0.0797\n",
            "Epoch 5/10\n",
            "1875/1875 - 23s - 12ms/step - accuracy: 0.9862 - loss: 0.0474 - val_accuracy: 0.9767 - val_loss: 0.0836\n",
            "Epoch 6/10\n",
            "1875/1875 - 40s - 21ms/step - accuracy: 0.9881 - loss: 0.0408 - val_accuracy: 0.9782 - val_loss: 0.0771\n",
            "Epoch 7/10\n",
            "1875/1875 - 22s - 12ms/step - accuracy: 0.9901 - loss: 0.0334 - val_accuracy: 0.9815 - val_loss: 0.0746\n",
            "Epoch 8/10\n",
            "1875/1875 - 41s - 22ms/step - accuracy: 0.9916 - loss: 0.0296 - val_accuracy: 0.9796 - val_loss: 0.0842\n",
            "Epoch 9/10\n",
            "1875/1875 - 40s - 21ms/step - accuracy: 0.9921 - loss: 0.0272 - val_accuracy: 0.9820 - val_loss: 0.0787\n",
            "Epoch 10/10\n",
            "1875/1875 - 42s - 22ms/step - accuracy: 0.9927 - loss: 0.0249 - val_accuracy: 0.9816 - val_loss: 0.0837\n",
            "Accuracy_3_layers: 0.9772999882698059% \n",
            " Accuracy_6_layers: 0.9815999865531921\n"
          ]
        }
      ]
    },
    {
      "cell_type": "code",
      "source": [
        "#load the saved model\n",
        "pretrained_model = keras.saving.load_model('classification_model.keras')\n",
        "\n",
        "print(\"Pre-trained model loaded successufully\")\n",
        "\n",
        "# Further train the loaded model\n",
        "pretrained_model.fit(X_train, y_train, validation_data=(X_test, y_test), epochs=10, verbose=2)\n",
        "\n",
        "# evaluate the model\n",
        "scores_20_epochs = pretrained_model.evaluate(X_test, y_test, verbose=0)\n",
        "print('Accuracy_10_epochs: {}% \\n Accuracy_20_epochs: {}'.format(scores[1], scores_20_epochs[1]))"
      ],
      "metadata": {
        "colab": {
          "base_uri": "https://localhost:8080/"
        },
        "id": "XOa-v1Pf0zY2",
        "outputId": "b8215953-4ef3-4c82-c1d5-c17cfc49da7f"
      },
      "execution_count": 17,
      "outputs": [
        {
          "output_type": "stream",
          "name": "stdout",
          "text": [
            "Pre-trained model loaded successufully\n",
            "Epoch 1/10\n",
            "1875/1875 - 22s - 12ms/step - accuracy: 0.9948 - loss: 0.0162 - val_accuracy: 0.9829 - val_loss: 0.0831\n",
            "Epoch 2/10\n",
            "1875/1875 - 40s - 21ms/step - accuracy: 0.9958 - loss: 0.0142 - val_accuracy: 0.9826 - val_loss: 0.0930\n",
            "Epoch 3/10\n",
            "1875/1875 - 21s - 11ms/step - accuracy: 0.9965 - loss: 0.0116 - val_accuracy: 0.9796 - val_loss: 0.1037\n",
            "Epoch 4/10\n",
            "1875/1875 - 20s - 10ms/step - accuracy: 0.9962 - loss: 0.0134 - val_accuracy: 0.9807 - val_loss: 0.0913\n",
            "Epoch 5/10\n",
            "1875/1875 - 20s - 11ms/step - accuracy: 0.9966 - loss: 0.0112 - val_accuracy: 0.9826 - val_loss: 0.1029\n",
            "Epoch 6/10\n",
            "1875/1875 - 21s - 11ms/step - accuracy: 0.9965 - loss: 0.0130 - val_accuracy: 0.9812 - val_loss: 0.0975\n",
            "Epoch 7/10\n",
            "1875/1875 - 20s - 10ms/step - accuracy: 0.9975 - loss: 0.0092 - val_accuracy: 0.9803 - val_loss: 0.1054\n",
            "Epoch 8/10\n",
            "1875/1875 - 21s - 11ms/step - accuracy: 0.9974 - loss: 0.0092 - val_accuracy: 0.9772 - val_loss: 0.1263\n",
            "Epoch 9/10\n",
            "1875/1875 - 19s - 10ms/step - accuracy: 0.9968 - loss: 0.0108 - val_accuracy: 0.9806 - val_loss: 0.1267\n",
            "Epoch 10/10\n",
            "1875/1875 - 20s - 11ms/step - accuracy: 0.9973 - loss: 0.0089 - val_accuracy: 0.9826 - val_loss: 0.1131\n",
            "Accuracy_10_epochs: 0.9772999882698059% \n",
            " Accuracy_20_epochs: 0.9825999736785889\n"
          ]
        }
      ]
    }
  ]
}